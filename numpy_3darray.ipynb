{
  "nbformat": 4,
  "nbformat_minor": 0,
  "metadata": {
    "colab": {
      "provenance": [],
      "authorship_tag": "ABX9TyMVVHmISmA/dXycDiMQ116y",
      "include_colab_link": true
    },
    "kernelspec": {
      "name": "python3",
      "display_name": "Python 3"
    },
    "language_info": {
      "name": "python"
    }
  },
  "cells": [
    {
      "cell_type": "markdown",
      "metadata": {
        "id": "view-in-github",
        "colab_type": "text"
      },
      "source": [
        "<a href=\"https://colab.research.google.com/github/annita049/Python-Django/blob/main/numpy_3darray.ipynb\" target=\"_parent\"><img src=\"https://colab.research.google.com/assets/colab-badge.svg\" alt=\"Open In Colab\"/></a>"
      ]
    },
    {
      "cell_type": "code",
      "execution_count": 31,
      "metadata": {
        "colab": {
          "base_uri": "https://localhost:8080/"
        },
        "id": "6LfQecW23InK",
        "outputId": "e0162600-8705-4c61-fe91-e1b0226914b4"
      },
      "outputs": [
        {
          "output_type": "stream",
          "name": "stdout",
          "text": [
            "[[[ 1  2  3]\n",
            "  [ 4  5  6]]\n",
            "\n",
            " [[ 7  8  9]\n",
            "  [10 11 12]]]\n",
            "[[1], [2], [3], [4], [5], [6], [7], [8], [9], [10], [11], [12]]\n"
          ]
        }
      ],
      "source": [
        "import numpy as np\n",
        "arr3 = np.array([[[1, 2, 3], [4, 5, 6]], [[7, 8, 9], [10, 11, 12]]])\n",
        "print(arr3)\n",
        "# arr3.ndim\n",
        "# arr3.shape\n",
        "# arr3.shape[0]\n",
        "\n",
        "my_list = []\n",
        "\n",
        "for i in range(arr3.shape[0]):\n",
        "  for j in range(arr3.shape[1]):\n",
        "    for k in range(arr3.shape[2]):\n",
        "      my_list.append([arr3[i, j, k]])\n",
        "\n",
        "print(my_list)\n",
        "          # print(arr3[i, j, k])\n"
      ]
    }
  ]
}